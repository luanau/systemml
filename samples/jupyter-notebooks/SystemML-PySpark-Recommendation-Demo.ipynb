{
 "cells": [
  {
   "cell_type": "markdown",
   "metadata": {},
   "source": [
    "# SystemML PySpark Recommendation Demo"
   ]
  },
  {
   "cell_type": "code",
   "execution_count": 1,
   "metadata": {
    "collapsed": false
   },
   "outputs": [],
   "source": [
    "%load_ext autoreload\n",
    "%autoreload 2\n",
    "%matplotlib inline\n",
    "\n",
    "import numpy as np\n",
    "import matplotlib.pyplot as plt\n",
    "plt.rcParams['figure.figsize'] = (10, 6)"
   ]
  },
  {
   "cell_type": "markdown",
   "metadata": {},
   "source": [
    "# Data"
   ]
  },
  {
   "cell_type": "code",
   "execution_count": 2,
   "metadata": {
    "collapsed": false
   },
   "outputs": [
    {
     "name": "stderr",
     "output_type": "stream",
     "text": [
      "  % Total    % Received % Xferd  Average Speed   Time    Time     Time  Current\n",
      "                                 Dload  Upload   Total   Spent    Left  Speed\n",
      "\r",
      "  0     0    0     0    0     0      0      0 --:--:-- --:--:-- --:--:--     0\r",
      "  7 11.2M    7  916k    0     0  1051k      0  0:00:10 --:--:--  0:00:10 1051k\r",
      " 17 11.2M   17 2064k    0     0  1159k      0  0:00:09  0:00:01  0:00:08 1159k\r",
      " 29 11.2M   29 3424k    0     0  1234k      0  0:00:09  0:00:02  0:00:07 1234k\r",
      " 39 11.2M   39 4564k    0     0  1207k      0  0:00:09  0:00:03  0:00:06 1207k\r",
      " 44 11.2M   44 5118k    0     0  1073k      0  0:00:10  0:00:04  0:00:06 1073k\r",
      " 47 11.2M   47 5527k    0     0   951k      0  0:00:12  0:00:05  0:00:07  933k\r",
      " 50 11.2M   50 5804k    0     0   857k      0  0:00:13  0:00:06  0:00:07  749k\r",
      " 53 11.2M   53 6142k    0     0   790k      0  0:00:14  0:00:07  0:00:07  544k\r",
      " 58 11.2M   58 6715k    0     0   765k      0  0:00:15  0:00:08  0:00:07  431k\r",
      " 68 11.2M   68 7932k    0     0   811k      0  0:00:14  0:00:09  0:00:05  562k\r",
      " 83 11.2M   83 9585k    0     0   890k      0  0:00:12  0:00:10  0:00:02  818k\r",
      " 96 11.2M   96 10.8M    0     0   941k      0  0:00:12  0:00:11  0:00:01 1055k\r",
      "100 11.2M  100 11.2M    0     0   955k      0  0:00:12  0:00:12 --:--:-- 1254k\n"
     ]
    }
   ],
   "source": [
    "%%sh\n",
    "# Download dataset\n",
    "curl -O http://snap.stanford.edu/data/amazon0601.txt.gz\n",
    "gunzip amazon0601.txt.gz"
   ]
  },
  {
   "cell_type": "code",
   "execution_count": 3,
   "metadata": {
    "collapsed": false
   },
   "outputs": [
    {
     "name": "stdout",
     "output_type": "stream",
     "text": [
      "Total number of products: 500\n"
     ]
    }
   ],
   "source": [
    "# Load data\n",
    "import pyspark.sql.functions as F\n",
    "dataPath = \"amazon0601.txt\"\n",
    "\n",
    "X_train = (sc.textFile(dataPath)\n",
    "    .filter(lambda l: not l.startswith(\"#\"))\n",
    "    .map(lambda l: l.split(\"\\t\"))\n",
    "    .map(lambda prods: (int(prods[0]), int(prods[1]), 1.0))\n",
    "    .toDF((\"prod_i\", \"prod_j\", \"x_ij\"))\n",
    "    .filter(\"prod_i < 500 AND prod_j < 500\") # Filter for memory constraints\n",
    "    .cache())\n",
    "\n",
    "max_prod_i = X_train.select(F.max(\"prod_i\")).first()[0]\n",
    "max_prod_j = X_train.select(F.max(\"prod_j\")).first()[0]\n",
    "numProducts = max(max_prod_i, max_prod_j) + 1 # 0-based indexing\n",
    "print(\"Total number of products: {}\".format(numProducts))"
   ]
  },
  {
   "cell_type": "markdown",
   "metadata": {},
   "source": [
    "# SystemML - Poisson Nonnegative Matrix Factorization (PNMF)"
   ]
  },
  {
   "cell_type": "code",
   "execution_count": 4,
   "metadata": {
    "collapsed": true
   },
   "outputs": [],
   "source": [
    "# Create SystemML MLContext\n",
    "from SystemML import MLContext\n",
    "ml = MLContext(sc)"
   ]
  },
  {
   "cell_type": "code",
   "execution_count": 5,
   "metadata": {
    "collapsed": false
   },
   "outputs": [],
   "source": [
    "# Define PNMF kernel in SystemML's DSL using the R-like syntax for PNMF\n",
    "pnmf = \"\"\"\n",
    "# data & args\n",
    "X = read($X)\n",
    "X = X+1 # change product IDs to be 1-based, rather than 0-based\n",
    "V = table(X[,1], X[,2])\n",
    "size = ifdef($size, -1)\n",
    "if(size > -1) {\n",
    "    V = V[1:size,1:size]\n",
    "}\n",
    "max_iteration = as.integer($maxiter)\n",
    "rank = as.integer($rank)\n",
    "\n",
    "n = nrow(V)\n",
    "m = ncol(V)\n",
    "range = 0.01\n",
    "W = Rand(rows=n, cols=rank, min=0, max=range, pdf=\"uniform\")\n",
    "H = Rand(rows=rank, cols=m, min=0, max=range, pdf=\"uniform\")\n",
    "losses = matrix(0, rows=max_iteration, cols=1)\n",
    "\n",
    "# run PNMF\n",
    "i=1\n",
    "while(i <= max_iteration) {\n",
    "  # update params\n",
    "  H = (H * (t(W) %*% (V/(W%*%H))))/t(colSums(W)) \n",
    "  W = (W * ((V/(W%*%H)) %*% t(H)))/t(rowSums(H))\n",
    "  \n",
    "  # compute loss\n",
    "  losses[i,] = -1 * (sum(V*log(W%*%H)) - as.scalar(colSums(W)%*%rowSums(H)))\n",
    "  i = i + 1;\n",
    "}\n",
    "\n",
    "# write outputs\n",
    "write(losses, $lossout)\n",
    "write(W, $Wout)\n",
    "write(H, $Hout)\n",
    "\"\"\""
   ]
  },
  {
   "cell_type": "code",
   "execution_count": 6,
   "metadata": {
    "collapsed": false
   },
   "outputs": [],
   "source": [
    "# Run the PNMF script on SystemML with Spark\n",
    "ml.reset()\n",
    "outputs = ml.executeScript(pnmf, {\"X\": X_train, \"maxiter\": 100, \"rank\": 10}, [\"W\", \"H\", \"losses\"])"
   ]
  },
  {
   "cell_type": "code",
   "execution_count": 7,
   "metadata": {
    "collapsed": false
   },
   "outputs": [
    {
     "data": {
      "text/plain": [
       "<matplotlib.text.Text at 0x111c89050>"
      ]
     },
     "execution_count": 7,
     "metadata": {},
     "output_type": "execute_result"
    },
    {
     "data": {
      "image/png": "[encoded data removed]",
      "text/plain": [
       "<matplotlib.figure.Figure at 0x111b9b390>"
      ]
     },
     "metadata": {},
     "output_type": "display_data"
    }
   ],
   "source": [
    "# Plot training loss over time\n",
    "losses = outputs.getDF(sqlContext, \"losses\")\n",
    "xy = losses.sort(losses.ID).map(lambda r: (r[0], r[1])).collect()\n",
    "x, y = zip(*xy)\n",
    "plt.plot(x, y)\n",
    "plt.xlabel('Iteration')\n",
    "plt.ylabel('Loss')\n",
    "plt.title('PNMF Training Loss')"
   ]
  },
  {
   "cell_type": "code",
   "execution_count": null,
   "metadata": {
    "collapsed": true
   },
   "outputs": [],
   "source": []
  }
 ],
 "metadata": {
  "kernelspec": {
   "display_name": "Python 2",
   "language": "python",
   "name": "python2"
  },
  "language_info": {
   "codemirror_mode": {
    "name": "ipython",
    "version": 2
   },
   "file_extension": ".py",
   "mimetype": "text/x-python",
   "name": "python",
   "nbconvert_exporter": "python",
   "pygments_lexer": "ipython2",
   "version": "2.7.11"
  }
 },
 "nbformat": 4,
 "nbformat_minor": 0
}
